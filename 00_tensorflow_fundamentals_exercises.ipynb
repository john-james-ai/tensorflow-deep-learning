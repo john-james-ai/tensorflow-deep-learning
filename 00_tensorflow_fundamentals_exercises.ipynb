{
 "cells": [
  {
   "cell_type": "markdown",
   "metadata": {
    "id": "HcCZxK61VIv0"
   },
   "source": [
    "## 🛠 Exercises\n",
    "\n",
    "1. Create a vector, scalar, matrix and tensor with values of your choosing using `tf.constant()`.\n",
    "2. Find the shape, rank and size of the tensors you created in 1.\n",
    "3. Create two tensors containing random values between 0 and 1 with shape `[5, 300]`.\n",
    "4. Multiply the two tensors you created in 3 using matrix multiplication.\n",
    "5. Multiply the two tensors you created in 3 using dot product.\n",
    "6. Create a tensor with random values between 0 and 1 with shape `[224, 224, 3]`.\n",
    "7. Find the min and max values of the tensor you created in 6.\n",
    "8. Created a tensor with random values of shape `[1, 224, 224, 3]` then squeeze it to change the shape to `[224, 224, 3]`.\n",
    "9. Create a tensor with shape `[10]` using your own choice of values, then find the index which has the maximum value.\n",
    "10. One-hot encode the tensor you created in 9."
   ]
  },
  {
   "cell_type": "markdown",
   "metadata": {
    "id": "HcCZxK61VIv0"
   },
   "source": [
    "1. Create a vector, scalar, matrix and tensor with values of your choosing using `tf.constant()`."
   ]
  },
  {
   "cell_type": "code",
   "execution_count": null,
   "metadata": {},
   "outputs": [
    {
     "data": {
      "text/plain": [
       "(<tf.Tensor: shape=(2,), dtype=int32, numpy=array([ 1, 22], dtype=int32)>,\n",
       " <tf.Tensor: shape=(), dtype=int32, numpy=5>,\n",
       " <tf.Tensor: shape=(2, 12), dtype=int64, numpy=\n",
       " array([[ 0,  1,  2,  3,  4,  5,  6,  7,  8,  9, 10, 11],\n",
       "        [12, 13, 14, 15, 16, 17, 18, 19, 20, 21, 22, 23]])>,\n",
       " <tf.Tensor: shape=(2, 3, 4), dtype=int64, numpy=\n",
       " array([[[ 0,  1,  2,  3],\n",
       "         [ 4,  5,  6,  7],\n",
       "         [ 8,  9, 10, 11]],\n",
       " \n",
       "        [[12, 13, 14, 15],\n",
       "         [16, 17, 18, 19],\n",
       "         [20, 21, 22, 23]]])>)"
      ]
     },
     "metadata": {},
     "output_type": "display_data"
    }
   ],
   "source": [
    "a = np.arange(24)\n",
    "v = tf.constant([1,22])\n",
    "s = tf.constant(5)\n",
    "m = tf.constant(a,shape=[2,12])\n",
    "t = tf.constant(a,shape=[2,3,4])\n",
    "v,s,m,t"
   ]
  },
  {
   "cell_type": "markdown",
   "metadata": {},
   "source": [
    "2. Find the shape, rank and size of the tensors you created in 1."
   ]
  },
  {
   "cell_type": "code",
   "execution_count": null,
   "metadata": {},
   "outputs": [],
   "source": [
    "v.shape, v.ndim, tf.size(v)\n",
    "s.shape, s.ndim, tf.size(s)\n",
    "m.shape, m.ndim, tf.size(m)\n",
    "t.shape, t.ndim, tf.size(t)"
   ]
  },
  {
   "cell_type": "markdown",
   "metadata": {},
   "source": [
    "3. Create two tensors containing random values between 0 and 1 with shape `[5, 300]`."
   ]
  },
  {
   "cell_type": "code",
   "execution_count": null,
   "metadata": {},
   "outputs": [
    {
     "data": {
      "text/plain": [
       "(<tf.Tensor: shape=(5, 300), dtype=float32, numpy=\n",
       " array([[0.68789124, 0.48447883, 0.9309944 , ..., 0.6920762 , 0.33180213,\n",
       "         0.9212563 ],\n",
       "        [0.27369928, 0.10631859, 0.6218617 , ..., 0.4382149 , 0.30427706,\n",
       "         0.51477313],\n",
       "        [0.00920248, 0.37280262, 0.8177401 , ..., 0.56786287, 0.49201214,\n",
       "         0.9892651 ],\n",
       "        [0.88608265, 0.08672249, 0.12160683, ..., 0.91770685, 0.72545695,\n",
       "         0.8280058 ],\n",
       "        [0.36690474, 0.9200133 , 0.9646884 , ..., 0.69012   , 0.7137332 ,\n",
       "         0.2584542 ]], dtype=float32)>,\n",
       " <tf.Tensor: shape=(5, 300), dtype=float32, numpy=\n",
       " array([[0.7413678 , 0.62854624, 0.01738465, ..., 0.4851334 , 0.21059811,\n",
       "         0.25082767],\n",
       "        [0.10842848, 0.48783147, 0.8240961 , ..., 0.9204427 , 0.36046863,\n",
       "         0.28176582],\n",
       "        [0.7326695 , 0.46489418, 0.13622475, ..., 0.28130388, 0.63987684,\n",
       "         0.9987265 ],\n",
       "        [0.01447165, 0.7845044 , 0.33475304, ..., 0.56194997, 0.0209924 ,\n",
       "         0.1740731 ],\n",
       "        [0.90936875, 0.19861352, 0.9481231 , ..., 0.3573054 , 0.13161755,\n",
       "         0.22565222]], dtype=float32)>)"
      ]
     },
     "metadata": {},
     "output_type": "display_data"
    }
   ],
   "source": [
    "t1 = tf.random.uniform(shape=(5,300))\n",
    "t2 = tf.random.uniform(shape=(5,300))\n",
    "\n",
    "t1, t2"
   ]
  },
  {
   "cell_type": "markdown",
   "metadata": {},
   "source": [
    "4. Multiply the two tensors you created in 3 using matrix multiplication."
   ]
  },
  {
   "cell_type": "code",
   "execution_count": null,
   "metadata": {},
   "outputs": [
    {
     "data": {
      "text/plain": [
       "<tf.Tensor: shape=(5, 5), dtype=float32, numpy=\n",
       "array([[75.714005, 80.87825 , 78.328476, 78.259705, 79.130585],\n",
       "       [70.127075, 72.09944 , 70.1678  , 73.24611 , 74.27739 ],\n",
       "       [75.16001 , 79.52858 , 76.74643 , 78.14266 , 77.28679 ],\n",
       "       [77.11357 , 75.401215, 72.79376 , 75.06637 , 75.20651 ],\n",
       "       [79.87283 , 83.40137 , 78.573715, 79.025894, 81.82093 ]],\n",
       "      dtype=float32)>"
      ]
     },
     "metadata": {},
     "output_type": "display_data"
    }
   ],
   "source": [
    "tf.matmul(t1,tf.transpose(t2))"
   ]
  },
  {
   "cell_type": "markdown",
   "metadata": {},
   "source": [
    "5. Multiply the two tensors you created in 3 using dot product."
   ]
  },
  {
   "cell_type": "code",
   "execution_count": null,
   "metadata": {},
   "outputs": [
    {
     "data": {
      "text/plain": [
       "<tf.Tensor: shape=(5, 5), dtype=float32, numpy=\n",
       "array([[75.71398 , 80.878235, 78.3285  , 78.259705, 79.13059 ],\n",
       "       [70.12709 , 72.09943 , 70.16779 , 73.24608 , 74.277405],\n",
       "       [75.159996, 79.52858 , 76.74646 , 78.142654, 77.28679 ],\n",
       "       [77.11355 , 75.401215, 72.79378 , 75.06637 , 75.20653 ],\n",
       "       [79.87285 , 83.40138 , 78.57374 , 79.025894, 81.82089 ]],\n",
       "      dtype=float32)>"
      ]
     },
     "metadata": {},
     "output_type": "display_data"
    }
   ],
   "source": [
    "tf.tensordot(t1,tf.transpose(t2),axes=1)"
   ]
  },
  {
   "cell_type": "markdown",
   "metadata": {},
   "source": [
    "6. Create a tensor with random values between 0 and 1 with shape `[224, 224, 3]`."
   ]
  },
  {
   "cell_type": "code",
   "execution_count": null,
   "metadata": {},
   "outputs": [],
   "source": [
    "tf3 = tf.random.uniform(shape=[224,224,3])"
   ]
  },
  {
   "cell_type": "markdown",
   "metadata": {},
   "source": [
    "7. Find the min and max values of the tensor you created in 6."
   ]
  },
  {
   "cell_type": "code",
   "execution_count": null,
   "metadata": {},
   "outputs": [
    {
     "data": {
      "text/plain": [
       "<tf.Tensor: shape=(), dtype=float32, numpy=1.4781952e-05>"
      ]
     },
     "metadata": {},
     "output_type": "display_data"
    },
    {
     "data": {
      "text/plain": [
       "<tf.Tensor: shape=(), dtype=float32, numpy=0.9999968>"
      ]
     },
     "metadata": {},
     "output_type": "display_data"
    }
   ],
   "source": [
    "tf.reduce_min(tf3)\n",
    "tf.reduce_max(tf3)"
   ]
  },
  {
   "cell_type": "markdown",
   "metadata": {},
   "source": [
    "8. Created a tensor with random values of shape `[1, 224, 224, 3]` then squeeze it to change the shape to `[224, 224, 3]`."
   ]
  },
  {
   "cell_type": "code",
   "execution_count": null,
   "metadata": {},
   "outputs": [
    {
     "data": {
      "text/plain": [
       "<tf.Tensor: shape=(224, 224, 3), dtype=float32, numpy=\n",
       "array([[[0.95831835, 0.01680839, 0.3156035 ],\n",
       "        [0.16013157, 0.7148702 , 0.7892921 ],\n",
       "        [0.11484027, 0.33310425, 0.21091413],\n",
       "        ...,\n",
       "        [0.6279857 , 0.85051286, 0.9490392 ],\n",
       "        [0.62438786, 0.2802421 , 0.18754554],\n",
       "        [0.9087832 , 0.46846092, 0.5317346 ]],\n",
       "\n",
       "       [[0.85744655, 0.51288927, 0.18603599],\n",
       "        [0.04882693, 0.78045344, 0.79377043],\n",
       "        [0.9356363 , 0.32798207, 0.15949786],\n",
       "        ...,\n",
       "        [0.6933085 , 0.5420611 , 0.1860913 ],\n",
       "        [0.7326596 , 0.9234495 , 0.07200372],\n",
       "        [0.5471792 , 0.24985266, 0.14673471]],\n",
       "\n",
       "       [[0.5033684 , 0.7000841 , 0.21468806],\n",
       "        [0.9304948 , 0.17212296, 0.720364  ],\n",
       "        [0.6657183 , 0.17304075, 0.7110392 ],\n",
       "        ...,\n",
       "        [0.35423398, 0.126225  , 0.24436975],\n",
       "        [0.096439  , 0.06387579, 0.32836854],\n",
       "        [0.15067935, 0.6084572 , 0.47766674]],\n",
       "\n",
       "       ...,\n",
       "\n",
       "       [[0.23573959, 0.42224514, 0.9151635 ],\n",
       "        [0.38158715, 0.32973826, 0.5171102 ],\n",
       "        [0.06080973, 0.31411576, 0.22626662],\n",
       "        ...,\n",
       "        [0.5705669 , 0.4921385 , 0.09957004],\n",
       "        [0.7411188 , 0.02490544, 0.6451397 ],\n",
       "        [0.87311184, 0.7771938 , 0.7208451 ]],\n",
       "\n",
       "       [[0.9943476 , 0.7494216 , 0.04249358],\n",
       "        [0.0224061 , 0.5791631 , 0.7543137 ],\n",
       "        [0.84515274, 0.6103951 , 0.5505407 ],\n",
       "        ...,\n",
       "        [0.1359564 , 0.47180867, 0.4215784 ],\n",
       "        [0.1299932 , 0.5381433 , 0.71466696],\n",
       "        [0.15192771, 0.8817011 , 0.2109077 ]],\n",
       "\n",
       "       [[0.603493  , 0.16534615, 0.6985712 ],\n",
       "        [0.15773225, 0.8743893 , 0.58997643],\n",
       "        [0.80147445, 0.37448967, 0.8073541 ],\n",
       "        ...,\n",
       "        [0.65353775, 0.7825564 , 0.45476055],\n",
       "        [0.45565426, 0.39367366, 0.925439  ],\n",
       "        [0.05451977, 0.5806842 , 0.01799083]]], dtype=float32)>"
      ]
     },
     "metadata": {},
     "output_type": "display_data"
    }
   ],
   "source": [
    "tf4 = tf.random.uniform(shape=[1,224,224,3])\n",
    "tf.squeeze(tf4)\n"
   ]
  },
  {
   "cell_type": "markdown",
   "metadata": {},
   "source": [
    "9. Create a tensor with shape `[10]` using your own choice of values, then find the index which has the maximum value."
   ]
  },
  {
   "cell_type": "code",
   "execution_count": null,
   "metadata": {},
   "outputs": [
    {
     "data": {
      "text/plain": [
       "<tf.Tensor: shape=(), dtype=int64, numpy=6>"
      ]
     },
     "metadata": {},
     "output_type": "display_data"
    }
   ],
   "source": [
    "tf9 = tf.random.uniform(minval=0,maxval=4,shape=[10], dtype='int32')\n",
    "tf.argmax(tf9)"
   ]
  },
  {
   "cell_type": "markdown",
   "metadata": {},
   "source": [
    "10. One-hot encode the tensor you created in 9."
   ]
  },
  {
   "cell_type": "code",
   "execution_count": null,
   "metadata": {},
   "outputs": [
    {
     "data": {
      "text/plain": [
       "<tf.Tensor: shape=(10, 4), dtype=float32, numpy=\n",
       "array([[0., 1., 0., 0.],\n",
       "       [0., 0., 1., 0.],\n",
       "       [0., 1., 0., 0.],\n",
       "       [0., 0., 1., 0.],\n",
       "       [0., 0., 1., 0.],\n",
       "       [0., 0., 1., 0.],\n",
       "       [0., 0., 0., 1.],\n",
       "       [0., 1., 0., 0.],\n",
       "       [0., 0., 0., 1.],\n",
       "       [0., 0., 0., 1.]], dtype=float32)>"
      ]
     },
     "metadata": {},
     "output_type": "display_data"
    }
   ],
   "source": [
    "tf10 = tf.one_hot(tf9,depth=4)\n",
    "tf10"
   ]
  }
 ],
 "metadata": {
  "kernelspec": {
   "display_name": "Python 3.9.12 ('tf2')",
   "language": "python",
   "name": "python3"
  },
  "language_info": {
   "name": "python",
   "version": "3.9.12"
  },
  "orig_nbformat": 4,
  "vscode": {
   "interpreter": {
    "hash": "36b73152c2db178526287f34cbb63ec745c67c7bfa91505daf2a50c69f17c492"
   }
  }
 },
 "nbformat": 4,
 "nbformat_minor": 2
}
