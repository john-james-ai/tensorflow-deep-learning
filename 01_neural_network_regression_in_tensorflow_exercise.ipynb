{
 "cells": [
  {
   "cell_type": "markdown",
   "metadata": {},
   "source": [
    "# Boston House Pricing "
   ]
  },
  {
   "cell_type": "code",
   "execution_count": 1,
   "metadata": {},
   "outputs": [
    {
     "name": "stdout",
     "output_type": "stream",
     "text": [
      "TensorFlow version: 2.4.1\n"
     ]
    }
   ],
   "source": [
    "import tensorflow as tf\n",
    "from tensorflow import keras\n",
    "from tensorflow.keras import layers\n",
    "import numpy as np\n",
    "import pandas as pd\n",
    "import seaborn as sns\n",
    "from sklearn.compose import make_column_transformer\n",
    "from sklearn.preprocessing import MinMaxScaler, OneHotEncoder\n",
    "\n",
    "from src.visualize import plot_loss\n",
    "print(\"TensorFlow version:\", tf.__version__)"
   ]
  },
  {
   "cell_type": "markdown",
   "metadata": {},
   "source": [
    "## Dataset\n",
    "Obtain the dataset from the keras package. The API splits the data and renders tuples for training and test sets."
   ]
  },
  {
   "cell_type": "code",
   "execution_count": 2,
   "metadata": {},
   "outputs": [],
   "source": [
    "# Create column names\n",
    "features = [\"Crime\", \"Zoned\", \"Industrial\", \"Charles\", \"NOX\", \"Rooms\", \"Age\", \"Distance\", \"Radial\", \"Tax\", \"PTRatio\", \"Blacks\", \"LowerStatus\"]\n",
    "target = ['MedianValue']"
   ]
  },
  {
   "cell_type": "code",
   "execution_count": 3,
   "metadata": {},
   "outputs": [],
   "source": [
    "# Obtain Boston Housing Data and split into training and test sets\n",
    "boston = tf.keras.datasets.boston_housing.load_data(\n",
    "    path='boston_housing.npz', test_split=0.2, seed=113\n",
    ")\n",
    "(x_train, y_train), (x_test, y_test) = boston\n"
   ]
  },
  {
   "cell_type": "markdown",
   "metadata": {},
   "source": [
    "## Data Inspection\n",
    "We'll create a dataframe containing the training data with columns for visualization"
   ]
  },
  {
   "cell_type": "code",
   "execution_count": 4,
   "metadata": {},
   "outputs": [
    {
     "data": {
      "text/html": [
       "<div>\n",
       "<style scoped>\n",
       "    .dataframe tbody tr th:only-of-type {\n",
       "        vertical-align: middle;\n",
       "    }\n",
       "\n",
       "    .dataframe tbody tr th {\n",
       "        vertical-align: top;\n",
       "    }\n",
       "\n",
       "    .dataframe thead th {\n",
       "        text-align: right;\n",
       "    }\n",
       "</style>\n",
       "<table border=\"1\" class=\"dataframe\">\n",
       "  <thead>\n",
       "    <tr style=\"text-align: right;\">\n",
       "      <th></th>\n",
       "      <th>Crime</th>\n",
       "      <th>Zoned</th>\n",
       "      <th>Industrial</th>\n",
       "      <th>Charles</th>\n",
       "      <th>NOX</th>\n",
       "      <th>Rooms</th>\n",
       "      <th>Age</th>\n",
       "      <th>Distance</th>\n",
       "      <th>Radial</th>\n",
       "      <th>Tax</th>\n",
       "      <th>PTRatio</th>\n",
       "      <th>Blacks</th>\n",
       "      <th>LowerStatus</th>\n",
       "    </tr>\n",
       "  </thead>\n",
       "  <tbody>\n",
       "    <tr>\n",
       "      <th>0</th>\n",
       "      <td>1.23247</td>\n",
       "      <td>0.0</td>\n",
       "      <td>8.14</td>\n",
       "      <td>0.0</td>\n",
       "      <td>0.538</td>\n",
       "      <td>6.142</td>\n",
       "      <td>91.7</td>\n",
       "      <td>3.9769</td>\n",
       "      <td>4.0</td>\n",
       "      <td>307.0</td>\n",
       "      <td>21.0</td>\n",
       "      <td>396.90</td>\n",
       "      <td>18.72</td>\n",
       "    </tr>\n",
       "    <tr>\n",
       "      <th>1</th>\n",
       "      <td>0.02177</td>\n",
       "      <td>82.5</td>\n",
       "      <td>2.03</td>\n",
       "      <td>0.0</td>\n",
       "      <td>0.415</td>\n",
       "      <td>7.610</td>\n",
       "      <td>15.7</td>\n",
       "      <td>6.2700</td>\n",
       "      <td>2.0</td>\n",
       "      <td>348.0</td>\n",
       "      <td>14.7</td>\n",
       "      <td>395.38</td>\n",
       "      <td>3.11</td>\n",
       "    </tr>\n",
       "    <tr>\n",
       "      <th>2</th>\n",
       "      <td>4.89822</td>\n",
       "      <td>0.0</td>\n",
       "      <td>18.10</td>\n",
       "      <td>0.0</td>\n",
       "      <td>0.631</td>\n",
       "      <td>4.970</td>\n",
       "      <td>100.0</td>\n",
       "      <td>1.3325</td>\n",
       "      <td>24.0</td>\n",
       "      <td>666.0</td>\n",
       "      <td>20.2</td>\n",
       "      <td>375.52</td>\n",
       "      <td>3.26</td>\n",
       "    </tr>\n",
       "    <tr>\n",
       "      <th>3</th>\n",
       "      <td>0.03961</td>\n",
       "      <td>0.0</td>\n",
       "      <td>5.19</td>\n",
       "      <td>0.0</td>\n",
       "      <td>0.515</td>\n",
       "      <td>6.037</td>\n",
       "      <td>34.5</td>\n",
       "      <td>5.9853</td>\n",
       "      <td>5.0</td>\n",
       "      <td>224.0</td>\n",
       "      <td>20.2</td>\n",
       "      <td>396.90</td>\n",
       "      <td>8.01</td>\n",
       "    </tr>\n",
       "    <tr>\n",
       "      <th>4</th>\n",
       "      <td>3.69311</td>\n",
       "      <td>0.0</td>\n",
       "      <td>18.10</td>\n",
       "      <td>0.0</td>\n",
       "      <td>0.713</td>\n",
       "      <td>6.376</td>\n",
       "      <td>88.4</td>\n",
       "      <td>2.5671</td>\n",
       "      <td>24.0</td>\n",
       "      <td>666.0</td>\n",
       "      <td>20.2</td>\n",
       "      <td>391.43</td>\n",
       "      <td>14.65</td>\n",
       "    </tr>\n",
       "  </tbody>\n",
       "</table>\n",
       "</div>"
      ],
      "text/plain": [
       "     Crime  Zoned  Industrial  Charles    NOX  Rooms    Age  Distance  Radial  \\\n",
       "0  1.23247    0.0        8.14      0.0  0.538  6.142   91.7    3.9769     4.0   \n",
       "1  0.02177   82.5        2.03      0.0  0.415  7.610   15.7    6.2700     2.0   \n",
       "2  4.89822    0.0       18.10      0.0  0.631  4.970  100.0    1.3325    24.0   \n",
       "3  0.03961    0.0        5.19      0.0  0.515  6.037   34.5    5.9853     5.0   \n",
       "4  3.69311    0.0       18.10      0.0  0.713  6.376   88.4    2.5671    24.0   \n",
       "\n",
       "     Tax  PTRatio  Blacks  LowerStatus  \n",
       "0  307.0     21.0  396.90        18.72  \n",
       "1  348.0     14.7  395.38         3.11  \n",
       "2  666.0     20.2  375.52         3.26  \n",
       "3  224.0     20.2  396.90         8.01  \n",
       "4  666.0     20.2  391.43        14.65  "
      ]
     },
     "execution_count": 4,
     "metadata": {},
     "output_type": "execute_result"
    }
   ],
   "source": [
    "df = pd.DataFrame(x_train, columns=features)\n",
    "df.head()"
   ]
  },
  {
   "cell_type": "code",
   "execution_count": 5,
   "metadata": {},
   "outputs": [
    {
     "data": {
      "text/html": [
       "<div>\n",
       "<style scoped>\n",
       "    .dataframe tbody tr th:only-of-type {\n",
       "        vertical-align: middle;\n",
       "    }\n",
       "\n",
       "    .dataframe tbody tr th {\n",
       "        vertical-align: top;\n",
       "    }\n",
       "\n",
       "    .dataframe thead th {\n",
       "        text-align: right;\n",
       "    }\n",
       "</style>\n",
       "<table border=\"1\" class=\"dataframe\">\n",
       "  <thead>\n",
       "    <tr style=\"text-align: right;\">\n",
       "      <th></th>\n",
       "      <th>count</th>\n",
       "      <th>mean</th>\n",
       "      <th>std</th>\n",
       "      <th>min</th>\n",
       "      <th>25%</th>\n",
       "      <th>50%</th>\n",
       "      <th>75%</th>\n",
       "      <th>max</th>\n",
       "    </tr>\n",
       "  </thead>\n",
       "  <tbody>\n",
       "    <tr>\n",
       "      <th>Crime</th>\n",
       "      <td>404.0</td>\n",
       "      <td>3.745111</td>\n",
       "      <td>9.240734</td>\n",
       "      <td>0.00632</td>\n",
       "      <td>0.081437</td>\n",
       "      <td>0.26888</td>\n",
       "      <td>3.674808</td>\n",
       "      <td>88.9762</td>\n",
       "    </tr>\n",
       "    <tr>\n",
       "      <th>Zoned</th>\n",
       "      <td>404.0</td>\n",
       "      <td>11.480198</td>\n",
       "      <td>23.767711</td>\n",
       "      <td>0.00000</td>\n",
       "      <td>0.000000</td>\n",
       "      <td>0.00000</td>\n",
       "      <td>12.500000</td>\n",
       "      <td>100.0000</td>\n",
       "    </tr>\n",
       "    <tr>\n",
       "      <th>Industrial</th>\n",
       "      <td>404.0</td>\n",
       "      <td>11.104431</td>\n",
       "      <td>6.811308</td>\n",
       "      <td>0.46000</td>\n",
       "      <td>5.130000</td>\n",
       "      <td>9.69000</td>\n",
       "      <td>18.100000</td>\n",
       "      <td>27.7400</td>\n",
       "    </tr>\n",
       "    <tr>\n",
       "      <th>Charles</th>\n",
       "      <td>404.0</td>\n",
       "      <td>0.061881</td>\n",
       "      <td>0.241238</td>\n",
       "      <td>0.00000</td>\n",
       "      <td>0.000000</td>\n",
       "      <td>0.00000</td>\n",
       "      <td>0.000000</td>\n",
       "      <td>1.0000</td>\n",
       "    </tr>\n",
       "    <tr>\n",
       "      <th>NOX</th>\n",
       "      <td>404.0</td>\n",
       "      <td>0.557356</td>\n",
       "      <td>0.117293</td>\n",
       "      <td>0.38500</td>\n",
       "      <td>0.453000</td>\n",
       "      <td>0.53800</td>\n",
       "      <td>0.631000</td>\n",
       "      <td>0.8710</td>\n",
       "    </tr>\n",
       "    <tr>\n",
       "      <th>Rooms</th>\n",
       "      <td>404.0</td>\n",
       "      <td>6.267082</td>\n",
       "      <td>0.709788</td>\n",
       "      <td>3.56100</td>\n",
       "      <td>5.874750</td>\n",
       "      <td>6.19850</td>\n",
       "      <td>6.609000</td>\n",
       "      <td>8.7250</td>\n",
       "    </tr>\n",
       "    <tr>\n",
       "      <th>Age</th>\n",
       "      <td>404.0</td>\n",
       "      <td>69.010644</td>\n",
       "      <td>27.940665</td>\n",
       "      <td>2.90000</td>\n",
       "      <td>45.475000</td>\n",
       "      <td>78.50000</td>\n",
       "      <td>94.100000</td>\n",
       "      <td>100.0000</td>\n",
       "    </tr>\n",
       "    <tr>\n",
       "      <th>Distance</th>\n",
       "      <td>404.0</td>\n",
       "      <td>3.740271</td>\n",
       "      <td>2.030215</td>\n",
       "      <td>1.12960</td>\n",
       "      <td>2.077100</td>\n",
       "      <td>3.14230</td>\n",
       "      <td>5.118000</td>\n",
       "      <td>10.7103</td>\n",
       "    </tr>\n",
       "    <tr>\n",
       "      <th>Radial</th>\n",
       "      <td>404.0</td>\n",
       "      <td>9.440594</td>\n",
       "      <td>8.698360</td>\n",
       "      <td>1.00000</td>\n",
       "      <td>4.000000</td>\n",
       "      <td>5.00000</td>\n",
       "      <td>24.000000</td>\n",
       "      <td>24.0000</td>\n",
       "    </tr>\n",
       "    <tr>\n",
       "      <th>Tax</th>\n",
       "      <td>404.0</td>\n",
       "      <td>405.898515</td>\n",
       "      <td>166.374543</td>\n",
       "      <td>188.00000</td>\n",
       "      <td>279.000000</td>\n",
       "      <td>330.00000</td>\n",
       "      <td>666.000000</td>\n",
       "      <td>711.0000</td>\n",
       "    </tr>\n",
       "    <tr>\n",
       "      <th>PTRatio</th>\n",
       "      <td>404.0</td>\n",
       "      <td>18.475990</td>\n",
       "      <td>2.200382</td>\n",
       "      <td>12.60000</td>\n",
       "      <td>17.225000</td>\n",
       "      <td>19.10000</td>\n",
       "      <td>20.200000</td>\n",
       "      <td>22.0000</td>\n",
       "    </tr>\n",
       "    <tr>\n",
       "      <th>Blacks</th>\n",
       "      <td>404.0</td>\n",
       "      <td>354.783168</td>\n",
       "      <td>94.111148</td>\n",
       "      <td>0.32000</td>\n",
       "      <td>374.672500</td>\n",
       "      <td>391.25000</td>\n",
       "      <td>396.157500</td>\n",
       "      <td>396.9000</td>\n",
       "    </tr>\n",
       "    <tr>\n",
       "      <th>LowerStatus</th>\n",
       "      <td>404.0</td>\n",
       "      <td>12.740817</td>\n",
       "      <td>7.254545</td>\n",
       "      <td>1.73000</td>\n",
       "      <td>6.890000</td>\n",
       "      <td>11.39500</td>\n",
       "      <td>17.092500</td>\n",
       "      <td>37.9700</td>\n",
       "    </tr>\n",
       "  </tbody>\n",
       "</table>\n",
       "</div>"
      ],
      "text/plain": [
       "             count        mean         std        min         25%        50%  \\\n",
       "Crime        404.0    3.745111    9.240734    0.00632    0.081437    0.26888   \n",
       "Zoned        404.0   11.480198   23.767711    0.00000    0.000000    0.00000   \n",
       "Industrial   404.0   11.104431    6.811308    0.46000    5.130000    9.69000   \n",
       "Charles      404.0    0.061881    0.241238    0.00000    0.000000    0.00000   \n",
       "NOX          404.0    0.557356    0.117293    0.38500    0.453000    0.53800   \n",
       "Rooms        404.0    6.267082    0.709788    3.56100    5.874750    6.19850   \n",
       "Age          404.0   69.010644   27.940665    2.90000   45.475000   78.50000   \n",
       "Distance     404.0    3.740271    2.030215    1.12960    2.077100    3.14230   \n",
       "Radial       404.0    9.440594    8.698360    1.00000    4.000000    5.00000   \n",
       "Tax          404.0  405.898515  166.374543  188.00000  279.000000  330.00000   \n",
       "PTRatio      404.0   18.475990    2.200382   12.60000   17.225000   19.10000   \n",
       "Blacks       404.0  354.783168   94.111148    0.32000  374.672500  391.25000   \n",
       "LowerStatus  404.0   12.740817    7.254545    1.73000    6.890000   11.39500   \n",
       "\n",
       "                    75%       max  \n",
       "Crime          3.674808   88.9762  \n",
       "Zoned         12.500000  100.0000  \n",
       "Industrial    18.100000   27.7400  \n",
       "Charles        0.000000    1.0000  \n",
       "NOX            0.631000    0.8710  \n",
       "Rooms          6.609000    8.7250  \n",
       "Age           94.100000  100.0000  \n",
       "Distance       5.118000   10.7103  \n",
       "Radial        24.000000   24.0000  \n",
       "Tax          666.000000  711.0000  \n",
       "PTRatio       20.200000   22.0000  \n",
       "Blacks       396.157500  396.9000  \n",
       "LowerStatus   17.092500   37.9700  "
      ]
     },
     "execution_count": 5,
     "metadata": {},
     "output_type": "execute_result"
    }
   ],
   "source": [
    "df.describe().transpose()"
   ]
  },
  {
   "cell_type": "markdown",
   "metadata": {},
   "source": [
    "## Modeling\n",
    "### Base Model"
   ]
  },
  {
   "cell_type": "code",
   "execution_count": 6,
   "metadata": {},
   "outputs": [
    {
     "name": "stdout",
     "output_type": "stream",
     "text": [
      "Model: \"sequential\"\n",
      "_________________________________________________________________\n",
      "Layer (type)                 Output Shape              Param #   \n",
      "=================================================================\n",
      "normalization (Normalization (None, 13)                27        \n",
      "_________________________________________________________________\n",
      "dense (Dense)                (None, 1)                 14        \n",
      "=================================================================\n",
      "Total params: 41\n",
      "Trainable params: 14\n",
      "Non-trainable params: 27\n",
      "_________________________________________________________________\n"
     ]
    },
    {
     "name": "stderr",
     "output_type": "stream",
     "text": [
      "2022-07-21 04:03:32.486311: I tensorflow/compiler/jit/xla_cpu_device.cc:41] Not creating XLA devices, tf_xla_enable_xla_devices not set\n",
      "2022-07-21 04:03:32.486659: I tensorflow/core/platform/cpu_feature_guard.cc:142] This TensorFlow binary is optimized with oneAPI Deep Neural Network Library (oneDNN) to use the following CPU instructions in performance-critical operations:  SSE4.1 SSE4.2\n",
      "To enable them in other operations, rebuild TensorFlow with the appropriate compiler flags.\n",
      "2022-07-21 04:03:32.492863: I tensorflow/core/common_runtime/process_util.cc:146] Creating new thread pool with default inter op setting: 2. Tune using inter_op_parallelism_threads for best performance.\n"
     ]
    }
   ],
   "source": [
    "# Create a normalization layer and set its internal state using the training data\n",
    "normalizer = tf.keras.layers.experimental.preprocessing.Normalization(axis=-1)\n",
    "normalizer.adapt(x_train)\n",
    "\n",
    "# Create a model that includes the normalization layer\n",
    "model_0 = tf.keras.Sequential([\n",
    "    normalizer,    \n",
    "    tf.keras.layers.Dense(units=1)    \n",
    "])\n",
    "model_0.summary()"
   ]
  },
  {
   "cell_type": "code",
   "execution_count": 7,
   "metadata": {},
   "outputs": [
    {
     "name": "stderr",
     "output_type": "stream",
     "text": [
      "2022-07-21 04:03:32.802799: I tensorflow/compiler/mlir/mlir_graph_optimization_pass.cc:116] None of the MLIR optimization passes are enabled (registered 2)\n",
      "2022-07-21 04:03:32.803284: I tensorflow/core/platform/profile_utils/cpu_utils.cc:112] CPU Frequency: 2659995000 Hz\n"
     ]
    },
    {
     "name": "stdout",
     "output_type": "stream",
     "text": [
      "CPU times: user 2min 19s, sys: 6min 42s, total: 9min 2s\n",
      "Wall time: 24.3 s\n"
     ]
    }
   ],
   "source": [
    "%%time\n",
    "# Compile the model to track mean squared error using the Adam optimizer with learning rate 0.1\n",
    "model_0.compile(loss='mean_squared_error', optimizer=tf.keras.optimizers.Adam(0.1))\n",
    "model_0_history = model_0.fit(\n",
    "    x_train,\n",
    "    y_train,\n",
    "    epochs=100,\n",
    "    validation_split=0.2,\n",
    "    verbose=0, # Suppress logging\n",
    "    )"
   ]
  },
  {
   "cell_type": "code",
   "execution_count": 12,
   "metadata": {},
   "outputs": [
    {
     "data": {
      "image/png": "[encoded data removed]",
      "text/plain": [
       "<Figure size 432x288 with 1 Axes>"
      ]
     },
     "metadata": {
      "needs_background": "light"
     },
     "output_type": "display_data"
    }
   ],
   "source": [
    "plot_loss(model_0_history,ylim=[0,100])"
   ]
  },
  {
   "cell_type": "code",
   "execution_count": 9,
   "metadata": {},
   "outputs": [],
   "source": [
    "# Save test results\n",
    "test_results = {}\n",
    "test_results['model_0'] = model_0.evaluate(\n",
    "    x_train,\n",
    "    y_train, verbose=0\n",
    ")"
   ]
  },
  {
   "cell_type": "markdown",
   "metadata": {},
   "source": [
    "### Model 1: Deep Neural Network"
   ]
  },
  {
   "cell_type": "code",
   "execution_count": 13,
   "metadata": {},
   "outputs": [],
   "source": [
    "model_1 = tf.keras.Sequential([\n",
    "    normalizer,\n",
    "    tf.keras.layers.Dense(64,activation='relu'),\n",
    "    tf.keras.layers.Dense(64,activation='relu'),\n",
    "    tf.keras.layers.Dense(1),\n",
    "])\n",
    "model_1.compile(loss='mean_squared_error', optimizer=tf.keras.optimizers.Adam(0.01))\n",
    "model_1_history = model_1.fit(\n",
    "    x_train,\n",
    "    y_train,\n",
    "    epochs=100,\n",
    "    validation_split=0.2,\n",
    "    verbose=0, # Suppress logging\n",
    "    )\n",
    "test_results['model_1'] = model_1.evaluate(\n",
    "    x_train,\n",
    "    y_train, verbose=0\n",
    ")    "
   ]
  },
  {
   "cell_type": "code",
   "execution_count": 14,
   "metadata": {},
   "outputs": [
    {
     "data": {
      "image/png": "[encoded data removed]",
      "text/plain": [
       "<Figure size 432x288 with 1 Axes>"
      ]
     },
     "metadata": {
      "needs_background": "light"
     },
     "output_type": "display_data"
    }
   ],
   "source": [
    "plot_loss(model_1_history,ylim=[0,100])"
   ]
  },
  {
   "cell_type": "markdown",
   "metadata": {},
   "source": [
    "### Model 2: Deep Neural Network"
   ]
  },
  {
   "cell_type": "code",
   "execution_count": null,
   "metadata": {},
   "outputs": [],
   "source": [
    "model_2 = tf.keras.Sequential([\n",
    "    normalizer,\n",
    "    tf.keras.layers.Dense(128,activation='relu'),\n",
    "    tf.keras.layers.Dense(64,activation='relu'),\n",
    "    tf.keras.layers.Dense(1),\n",
    "])\n",
    "model_2.compile(loss='mean_squared_error', optimizer=tf.keras.optimizers.Adam(0.01))\n",
    "model_2_history = model_2.fit(\n",
    "    x_train,\n",
    "    y_train,\n",
    "    epochs=100,\n",
    "    validation_split=0.2,\n",
    "    verbose=0, # Suppress logging\n",
    "    )\n",
    "test_results['model_2'] = model_2.evaluate(\n",
    "    x_train,\n",
    "    y_train, verbose=0\n",
    ")    "
   ]
  },
  {
   "cell_type": "code",
   "execution_count": null,
   "metadata": {},
   "outputs": [
    {
     "data": {
      "image/png": "[encoded data removed]",
      "text/plain": [
       "<Figure size 432x288 with 1 Axes>"
      ]
     },
     "metadata": {},
     "output_type": "display_data"
    }
   ],
   "source": [
    "plot_loss(model_2_history,ylim=[0,100])"
   ]
  },
  {
   "cell_type": "code",
   "execution_count": 16,
   "metadata": {},
   "outputs": [
    {
     "data": {
      "text/html": [
       "<div>\n",
       "<style scoped>\n",
       "    .dataframe tbody tr th:only-of-type {\n",
       "        vertical-align: middle;\n",
       "    }\n",
       "\n",
       "    .dataframe tbody tr th {\n",
       "        vertical-align: top;\n",
       "    }\n",
       "\n",
       "    .dataframe thead th {\n",
       "        text-align: right;\n",
       "    }\n",
       "</style>\n",
       "<table border=\"1\" class=\"dataframe\">\n",
       "  <thead>\n",
       "    <tr style=\"text-align: right;\">\n",
       "      <th></th>\n",
       "      <th>Mean Squared Error</th>\n",
       "    </tr>\n",
       "  </thead>\n",
       "  <tbody>\n",
       "    <tr>\n",
       "      <th>model_0</th>\n",
       "      <td>22.379442</td>\n",
       "    </tr>\n",
       "    <tr>\n",
       "      <th>model_1</th>\n",
       "      <td>6.198429</td>\n",
       "    </tr>\n",
       "  </tbody>\n",
       "</table>\n",
       "</div>"
      ],
      "text/plain": [
       "         Mean Squared Error\n",
       "model_0           22.379442\n",
       "model_1            6.198429"
      ]
     },
     "execution_count": 16,
     "metadata": {},
     "output_type": "execute_result"
    }
   ],
   "source": [
    "pd.DataFrame(test_results, index=['Mean Squared Error']).T"
   ]
  }
 ],
 "metadata": {
  "kernelspec": {
   "display_name": "Python 3.9.12 ('tf2')",
   "language": "python",
   "name": "python3"
  },
  "language_info": {
   "codemirror_mode": {
    "name": "ipython",
    "version": 3
   },
   "file_extension": ".py",
   "mimetype": "text/x-python",
   "name": "python",
   "nbconvert_exporter": "python",
   "pygments_lexer": "ipython3",
   "version": "3.9.12"
  },
  "orig_nbformat": 4,
  "vscode": {
   "interpreter": {
    "hash": "36b73152c2db178526287f34cbb63ec745c67c7bfa91505daf2a50c69f17c492"
   }
  }
 },
 "nbformat": 4,
 "nbformat_minor": 2
}
